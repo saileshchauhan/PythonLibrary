{
 "metadata": {
  "language_info": {
   "codemirror_mode": {
    "name": "ipython",
    "version": 3
   },
   "file_extension": ".py",
   "mimetype": "text/x-python",
   "name": "python",
   "nbconvert_exporter": "python",
   "pygments_lexer": "ipython3",
   "version": 3
  },
  "orig_nbformat": 4
 },
 "nbformat": 4,
 "nbformat_minor": 2,
 "cells": [
  {
   "cell_type": "code",
   "execution_count": null,
   "metadata": {},
   "outputs": [],
   "source": [
    "'''\n",
    "@Author:Sailesh Chauhan\n",
    "@Date:2021-06-18\n",
    "@Last Modified by:Sailesh Chauhan\n",
    "@Last Modified time:2021-06-18\n",
    "@Title:Write a Python program to display the grid and draw line charts of the closing value of\n",
    "Alphabet Inc. between October 3, 2016 to October 7, 2016. Customized the grid lines with\n",
    "linestyle -, width .5. and color blue.\n",
    "'''"
   ]
  },
  {
   "cell_type": "code",
   "execution_count": null,
   "metadata": {},
   "outputs": [],
   "source": []
  }
 ]
}