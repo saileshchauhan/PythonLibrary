{
 "metadata": {
  "language_info": {
   "codemirror_mode": {
    "name": "ipython",
    "version": 3
   },
   "file_extension": ".py",
   "mimetype": "text/x-python",
   "name": "python",
   "nbconvert_exporter": "python",
   "pygments_lexer": "ipython3",
   "version": "3.9.5"
  },
  "orig_nbformat": 4,
  "kernelspec": {
   "name": "python3",
   "display_name": "Python 3.9.5 64-bit"
  },
  "interpreter": {
   "hash": "65925fe26da0271e5923c739aef94a3b1e54a007f0972b7fdc791b168e3bdb8c"
  }
 },
 "nbformat": 4,
 "nbformat_minor": 2,
 "cells": [
  {
   "cell_type": "code",
   "execution_count": null,
   "metadata": {},
   "outputs": [],
   "source": [
    "'''\n",
    "@Author:Sailesh Chauhan\n",
    "@Date:2021-06-17\n",
    "@Last Modified by:Sailesh Chauhan\n",
    "@Last Modified time:2021-06-17\n",
    "@Title:Write a Python program to convert a Panda module Series to Python list and it's type."
   ]
  },
  {
   "cell_type": "code",
   "execution_count": 1,
   "metadata": {},
   "outputs": [],
   "source": [
    "import pandas as pd"
   ]
  },
  {
   "cell_type": "code",
   "execution_count": 2,
   "metadata": {},
   "outputs": [],
   "source": [
    "dataSet=pd.read_csv(\"https://media.geeksforgeeks.org/wp-content/uploads/nba.csv\")"
   ]
  },
  {
   "cell_type": "code",
   "execution_count": 3,
   "metadata": {},
   "outputs": [],
   "source": [
    "dataSet.dropna(inplace=True)"
   ]
  },
  {
   "cell_type": "code",
   "execution_count": 4,
   "metadata": {},
   "outputs": [
    {
     "output_type": "stream",
     "name": "stdout",
     "text": [
      "<class 'pandas.core.series.Series'>\n<class 'list'>\n"
     ]
    }
   ],
   "source": [
    "nameSeries=dataSet[\"Name\"]\n",
    "print(type(nameSeries))\n",
    "nameList=dataSet[\"Name\"].tolist()\n",
    "print(type(nameList))"
   ]
  },
  {
   "cell_type": "code",
   "execution_count": 5,
   "metadata": {},
   "outputs": [
    {
     "output_type": "stream",
     "name": "stdout",
     "text": [
      "              Name            Team  Number Position   Age Height  Weight  \\\n0    Avery Bradley  Boston Celtics     0.0       PG  25.0    6-2   180.0   \n1      Jae Crowder  Boston Celtics    99.0       SF  25.0    6-6   235.0   \n3      R.J. Hunter  Boston Celtics    28.0       SG  22.0    6-5   185.0   \n6    Jordan Mickey  Boston Celtics    55.0       PF  21.0    6-8   235.0   \n7     Kelly Olynyk  Boston Celtics    41.0        C  25.0    7-0   238.0   \n..             ...             ...     ...      ...   ...    ...     ...   \n449    Rodney Hood       Utah Jazz     5.0       SG  23.0    6-8   206.0   \n451  Chris Johnson       Utah Jazz    23.0       SF  26.0    6-6   206.0   \n452     Trey Lyles       Utah Jazz    41.0       PF  20.0   6-10   234.0   \n453   Shelvin Mack       Utah Jazz     8.0       PG  26.0    6-3   203.0   \n456    Jeff Withey       Utah Jazz    24.0        C  26.0    7-0   231.0   \n\n           College     Salary  \n0            Texas  7730337.0  \n1        Marquette  6796117.0  \n3    Georgia State  1148640.0  \n6              LSU  1170960.0  \n7          Gonzaga  2165160.0  \n..             ...        ...  \n449           Duke  1348440.0  \n451         Dayton   981348.0  \n452       Kentucky  2239800.0  \n453         Butler  2433333.0  \n456         Kansas   947276.0  \n\n[364 rows x 9 columns]\n"
     ]
    }
   ],
   "source": [
    "print(dataSet)"
   ]
  },
  {
   "cell_type": "code",
   "execution_count": null,
   "metadata": {},
   "outputs": [],
   "source": []
  }
 ]
}