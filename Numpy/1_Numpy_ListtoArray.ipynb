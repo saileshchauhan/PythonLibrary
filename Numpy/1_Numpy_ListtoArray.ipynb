{
 "metadata": {
  "language_info": {
   "codemirror_mode": {
    "name": "ipython",
    "version": 3
   },
   "file_extension": ".py",
   "mimetype": "text/x-python",
   "name": "python",
   "nbconvert_exporter": "python",
   "pygments_lexer": "ipython3",
   "version": "3.9.5"
  },
  "orig_nbformat": 4,
  "kernelspec": {
   "name": "python3",
   "display_name": "Python 3.9.5 64-bit"
  },
  "interpreter": {
   "hash": "65925fe26da0271e5923c739aef94a3b1e54a007f0972b7fdc791b168e3bdb8c"
  }
 },
 "nbformat": 4,
 "nbformat_minor": 2,
 "cells": [
  {
   "cell_type": "code",
   "execution_count": 8,
   "metadata": {},
   "outputs": [
    {
     "output_type": "execute_result",
     "data": {
      "text/plain": [
       "'\\n@Author:Sailesh Chauhan\\n@Date:2021-06-16\\n@Last Modified by:Sailesh Chauhan\\n@Last Modified time:2021-06-16\\n@Title: List of numeric values into a One-dimensional Numpy Array.\\n'"
      ]
     },
     "metadata": {},
     "execution_count": 8
    }
   ],
   "source": [
    "'''\n",
    "@Author:Sailesh Chauhan\n",
    "@Date:2021-06-16\n",
    "@Last Modified by:Sailesh Chauhan\n",
    "@Last Modified time:2021-06-16\n",
    "@Title: List of numeric values into a One-dimensional Numpy Array.\n",
    "'''"
   ]
  },
  {
   "cell_type": "code",
   "execution_count": 9,
   "metadata": {},
   "outputs": [],
   "source": [
    "import numpy as np"
   ]
  },
  {
   "cell_type": "code",
   "execution_count": 10,
   "metadata": {},
   "outputs": [],
   "source": [
    "orgList=[12.23, 13.32, 100, 36.32]"
   ]
  },
  {
   "cell_type": "code",
   "execution_count": 11,
   "metadata": {},
   "outputs": [
    {
     "output_type": "stream",
     "name": "stdout",
     "text": [
      "Problem List [12.23, 13.32, 100, 36.32]\n"
     ]
    }
   ],
   "source": [
    "print(\"Problem List %s\"%orgList)"
   ]
  },
  {
   "cell_type": "code",
   "execution_count": 12,
   "metadata": {},
   "outputs": [],
   "source": [
    "numpyArray=np.array(problemList,dtype='f')"
   ]
  },
  {
   "cell_type": "code",
   "execution_count": 13,
   "metadata": {},
   "outputs": [
    {
     "output_type": "stream",
     "name": "stdout",
     "text": [
      "One Dimensional Array [ 12.23  13.32 100.    36.32]\n"
     ]
    }
   ],
   "source": [
    "print(\"One Dimensional Array %s\"%numpyArray)"
   ]
  }
 ]
}